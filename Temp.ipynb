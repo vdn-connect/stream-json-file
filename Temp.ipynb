{
 "cells": [
  {
   "cell_type": "code",
   "execution_count": 1,
   "metadata": {},
   "outputs": [],
   "source": [
    "import asyncio \n",
    "from confluent_kafka import Consumer, Producer\n",
    "from confluent_kafka.admin import AdminClient, NewTopic\n",
    "BROKER_URL = \"PLAINTEXT://kafka01-vn00c1.vn.infra:9092\""
   ]
  },
  {
   "cell_type": "code",
   "execution_count": 2,
   "metadata": {},
   "outputs": [],
   "source": [
    "client = AdminClient({\"bootstrap.servers\": BROKER_URL})"
   ]
  },
  {
   "cell_type": "code",
   "execution_count": 3,
   "metadata": {},
   "outputs": [],
   "source": [
    "topic_meta = client.list_topics(timeout=5)"
   ]
  },
  {
   "cell_type": "code",
   "execution_count": 20,
   "metadata": {
    "scrolled": false
   },
   "outputs": [
    {
     "data": {
      "text/plain": [
       "{'scoring.offline.output': TopicMetadata(scoring.offline.output, 8 partitions),\n",
       " 'streaming.sales.customer_offer.offline_offers_import_status.message': TopicMetadata(streaming.sales.customer_offer.offline_offers_import_status.message, 8 partitions),\n",
       " 'streaming.online_data_test_request.core.message': TopicMetadata(streaming.online_data_test_request.core.message, 40 partitions),\n",
       " 'demo': TopicMetadata(demo, 8 partitions),\n",
       " 'scoring.online.output': TopicMetadata(scoring.online.output, 8 partitions),\n",
       " 'streaming.account_balance_change_request.financial.message': TopicMetadata(streaming.account_balance_change_request.financial.message, 16 partitions),\n",
       " 'streaming.vector.monitoring.events': TopicMetadata(streaming.vector.monitoring.events, 8 partitions),\n",
       " 'streaming.smart_data.predictor_engine_gold.pes_predictors': TopicMetadata(streaming.smart_data.predictor_engine_gold.pes_predictors, 8 partitions),\n",
       " 'streaming.card_notification.financial.message': TopicMetadata(streaming.card_notification.financial.message, 8 partitions),\n",
       " 'streaming.mobile_app_set_preferred_call_time.customer.message': TopicMetadata(streaming.mobile_app_set_preferred_call_time.customer.message, 8 partitions),\n",
       " 'streaming.daily_penalty_change.financial.message': TopicMetadata(streaming.daily_penalty_change.financial.message, 16 partitions),\n",
       " 'streaming.cti_background_process.cti.message': TopicMetadata(streaming.cti_background_process.cti.message, 24 partitions),\n",
       " 'dataLakeTestTopic': TopicMetadata(dataLakeTestTopic, 8 partitions),\n",
       " 'streaming.defaultBackgroundProcess.message': TopicMetadata(streaming.defaultBackgroundProcess.message, 40 partitions),\n",
       " 'streaming.smart_data.predictor_engine.pes_predictors_data': TopicMetadata(streaming.smart_data.predictor_engine.pes_predictors_data, 8 partitions),\n",
       " 'streaming.delivery_notification.core.message': TopicMetadata(streaming.delivery_notification.core.message, 40 partitions),\n",
       " 'streaming.jms_error_log.core.message': TopicMetadata(streaming.jms_error_log.core.message, 40 partitions),\n",
       " 'streaming.delayed_call_ended_process.cti.message': TopicMetadata(streaming.delayed_call_ended_process.cti.message, 24 partitions),\n",
       " 'streaming.financial_background_process.financial.message': TopicMetadata(streaming.financial_background_process.financial.message, 16 partitions),\n",
       " 'streaming.outsourced_call_result_import.core.message': TopicMetadata(streaming.outsourced_call_result_import.core.message, 8 partitions),\n",
       " 'streaming.manual_incoming_payment_pairing_info_request.financial.message': TopicMetadata(streaming.manual_incoming_payment_pairing_info_request.financial.message, 16 partitions),\n",
       " 'streaming.sales.party_lifecycle_management.instalments.v2.message': TopicMetadata(streaming.sales.party_lifecycle_management.instalments.v2.message, 8 partitions),\n",
       " 'streaming.party_notification.customer.message': TopicMetadata(streaming.party_notification.customer.message, 16 partitions),\n",
       " 'streaming.cti.affinity.report.message': TopicMetadata(streaming.cti.affinity.report.message, 8 partitions),\n",
       " 'streaming.sales_underwriting.smart_data_gold.message': TopicMetadata(streaming.sales_underwriting.smart_data_gold.message, 8 partitions),\n",
       " 'streaming.interface_log.core.message': TopicMetadata(streaming.interface_log.core.message, 40 partitions),\n",
       " 'streaming.debt_full_info.financial.message': TopicMetadata(streaming.debt_full_info.financial.message, 16 partitions),\n",
       " 'streaming.rel_account_statistic.financial.message': TopicMetadata(streaming.rel_account_statistic.financial.message, 16 partitions),\n",
       " 'streaming.core_background_process.core.message': TopicMetadata(streaming.core_background_process.core.message, 40 partitions),\n",
       " 'batch.sales.customer_offer.offline_offers.message': TopicMetadata(batch.sales.customer_offer.offline_offers.message, 8 partitions),\n",
       " 'streaming.sales.customer_offer.offer_notification.message': TopicMetadata(streaming.sales.customer_offer.offer_notification.message, 8 partitions),\n",
       " 'streaming.sales.customer_offer.analytics_export.message': TopicMetadata(streaming.sales.customer_offer.analytics_export.message, 8 partitions),\n",
       " 'streaming.vietnam_motorbike_info.core.message': TopicMetadata(streaming.vietnam_motorbike_info.core.message, 9 partitions),\n",
       " 'streaming.sales_underwriting.smart_data.message': TopicMetadata(streaming.sales_underwriting.smart_data.message, 8 partitions),\n",
       " 'streaming.lap.vectorjournal.message': TopicMetadata(streaming.lap.vectorjournal.message, 8 partitions),\n",
       " 'streaming.party_notification_bulk.customer.message': TopicMetadata(streaming.party_notification_bulk.customer.message, 8 partitions),\n",
       " '__consumer_offsets': TopicMetadata(__consumer_offsets, 50 partitions),\n",
       " 'streaming.customer_credit_rating.message': TopicMetadata(streaming.customer_credit_rating.message, 8 partitions),\n",
       " 'streaming.mobile_app_set_classifiable_property.core.message': TopicMetadata(streaming.mobile_app_set_classifiable_property.core.message, 8 partitions),\n",
       " 'streaming.smart_data.predictor_engine': TopicMetadata(streaming.smart_data.predictor_engine, 8 partitions),\n",
       " 'streaming.application_notification.financial.message': TopicMetadata(streaming.application_notification.financial.message, 16 partitions),\n",
       " 'streaming.risk.scoringphase.events': TopicMetadata(streaming.risk.scoringphase.events, 8 partitions),\n",
       " 'streaming.much_notification.core.message': TopicMetadata(streaming.much_notification.core.message, 40 partitions),\n",
       " 'streaming.loan_service_request.financial.message': TopicMetadata(streaming.loan_service_request.financial.message, 16 partitions),\n",
       " 'streaming.risk.monitoring.events': TopicMetadata(streaming.risk.monitoring.events, 8 partitions),\n",
       " 'streaming.codelist_notification.core.message': TopicMetadata(streaming.codelist_notification.core.message, 40 partitions),\n",
       " 'streaming.customer_credit_rating.smart_data.message': TopicMetadata(streaming.customer_credit_rating.smart_data.message, 8 partitions),\n",
       " 'lorTestTopic': TopicMetadata(lorTestTopic, 8 partitions),\n",
       " 'streaming.welcome_call_result.cti.message': TopicMetadata(streaming.welcome_call_result.cti.message, 24 partitions),\n",
       " 'streaming.smart_data.predictor_engine.pes_predictors': TopicMetadata(streaming.smart_data.predictor_engine.pes_predictors, 8 partitions),\n",
       " 'streaming.logs.timeto.events': TopicMetadata(streaming.logs.timeto.events, 8 partitions),\n",
       " 'streaming.coreBackgroundProcessXA.message': TopicMetadata(streaming.coreBackgroundProcessXA.message, 40 partitions),\n",
       " 'streaming.smart_data.predictor_engine.pes_raw_data': TopicMetadata(streaming.smart_data.predictor_engine.pes_raw_data, 8 partitions),\n",
       " 'streaming.lap.circuitbreaker.events': TopicMetadata(streaming.lap.circuitbreaker.events, 8 partitions),\n",
       " 'streaming.cabinet.notifications.document.v1.message': TopicMetadata(streaming.cabinet.notifications.document.v1.message, 8 partitions),\n",
       " 'streaming.save_task_with_result.core.message': TopicMetadata(streaming.save_task_with_result.core.message, 40 partitions),\n",
       " 'streaming.boundary_notification.core.message': TopicMetadata(streaming.boundary_notification.core.message, 40 partitions),\n",
       " 'streaming.scoring.request.vector.events': TopicMetadata(streaming.scoring.request.vector.events, 8 partitions),\n",
       " 'streaming.new_registry_data.core.message': TopicMetadata(streaming.new_registry_data.core.message, 40 partitions),\n",
       " 'streaming.repayment_account_change.financial.message': TopicMetadata(streaming.repayment_account_change.financial.message, 16 partitions),\n",
       " 'streaming.directdebit_response_notification.financial.message': TopicMetadata(streaming.directdebit_response_notification.financial.message, 8 partitions),\n",
       " 'streaming.contract_full_info_request.financial.message': TopicMetadata(streaming.contract_full_info_request.financial.message, 16 partitions),\n",
       " 'streaming.ticketing.ticket.v1': TopicMetadata(streaming.ticketing.ticket.v1, 8 partitions),\n",
       " 'streaming.sales.lead_management.application_event_notification.message': TopicMetadata(streaming.sales.lead_management.application_event_notification.message, 8 partitions),\n",
       " 'streaming.mobile_app_record_promise_to_pay.financial.message': TopicMetadata(streaming.mobile_app_record_promise_to_pay.financial.message, 8 partitions),\n",
       " 'streaming.dds_info_request.financial.message': TopicMetadata(streaming.dds_info_request.financial.message, 16 partitions),\n",
       " 'streaming.sales.customer_offer.response_events.message': TopicMetadata(streaming.sales.customer_offer.response_events.message, 8 partitions),\n",
       " 'streaming.contract_pay_off_processing_result.message': TopicMetadata(streaming.contract_pay_off_processing_result.message, 16 partitions),\n",
       " 'streaming.client_deal_notification.financial.message': TopicMetadata(streaming.client_deal_notification.financial.message, 16 partitions),\n",
       " 'streaming.customer_background_process.customer.message': TopicMetadata(streaming.customer_background_process.customer.message, 16 partitions),\n",
       " 'streaming.sales_product_agreement.loan_application_data.message': TopicMetadata(streaming.sales_product_agreement.loan_application_data.message, 8 partitions),\n",
       " 'streaming.sales_product_agreement.loan_application_data_v2.message': TopicMetadata(streaming.sales_product_agreement.loan_application_data_v2.message, 8 partitions),\n",
       " 'streaming.risk.scoringnotification.events': TopicMetadata(streaming.risk.scoringnotification.events, 8 partitions),\n",
       " 'streaming.sales.customer_offer.online_offers_creation_result.message': TopicMetadata(streaming.sales.customer_offer.online_offers_creation_result.message, 8 partitions),\n",
       " 'streaming.customer_credit_rating.errorOutput.message': TopicMetadata(streaming.customer_credit_rating.errorOutput.message, 8 partitions),\n",
       " 'batch.bigdata.calculatedpredictors.underwriting.message': TopicMetadata(batch.bigdata.calculatedpredictors.underwriting.message, 8 partitions),\n",
       " 'streaming.directdebit_request_confirmation.financial.message': TopicMetadata(streaming.directdebit_request_confirmation.financial.message, 8 partitions),\n",
       " 'streaming.acknowledgement_notification.core.message': TopicMetadata(streaming.acknowledgement_notification.core.message, 40 partitions),\n",
       " 'streaming.processing_stats_writer.core.message': TopicMetadata(streaming.processing_stats_writer.core.message, 40 partitions)}"
      ]
     },
     "execution_count": 20,
     "metadata": {},
     "output_type": "execute_result"
    }
   ],
   "source": [
    "topic_meta.topics"
   ]
  },
  {
   "cell_type": "code",
   "execution_count": 10,
   "metadata": {},
   "outputs": [
    {
     "data": {
      "text/plain": [
       "False"
      ]
     },
     "execution_count": 10,
     "metadata": {},
     "output_type": "execute_result"
    }
   ],
   "source": [
    "topic_meta.topics.get(\"org.udacity.lesson2.views\") is None"
   ]
  },
  {
   "cell_type": "code",
   "execution_count": 21,
   "metadata": {},
   "outputs": [
    {
     "data": {
      "text/plain": [
       "dict_values([TopicMetadata(scoring.offline.output, 8 partitions), TopicMetadata(streaming.sales.customer_offer.offline_offers_import_status.message, 8 partitions), TopicMetadata(streaming.online_data_test_request.core.message, 40 partitions), TopicMetadata(demo, 8 partitions), TopicMetadata(scoring.online.output, 8 partitions), TopicMetadata(streaming.account_balance_change_request.financial.message, 16 partitions), TopicMetadata(streaming.vector.monitoring.events, 8 partitions), TopicMetadata(streaming.smart_data.predictor_engine_gold.pes_predictors, 8 partitions), TopicMetadata(streaming.card_notification.financial.message, 8 partitions), TopicMetadata(streaming.mobile_app_set_preferred_call_time.customer.message, 8 partitions), TopicMetadata(streaming.daily_penalty_change.financial.message, 16 partitions), TopicMetadata(streaming.cti_background_process.cti.message, 24 partitions), TopicMetadata(dataLakeTestTopic, 8 partitions), TopicMetadata(streaming.defaultBackgroundProcess.message, 40 partitions), TopicMetadata(streaming.smart_data.predictor_engine.pes_predictors_data, 8 partitions), TopicMetadata(streaming.delivery_notification.core.message, 40 partitions), TopicMetadata(streaming.jms_error_log.core.message, 40 partitions), TopicMetadata(streaming.delayed_call_ended_process.cti.message, 24 partitions), TopicMetadata(streaming.financial_background_process.financial.message, 16 partitions), TopicMetadata(streaming.outsourced_call_result_import.core.message, 8 partitions), TopicMetadata(streaming.manual_incoming_payment_pairing_info_request.financial.message, 16 partitions), TopicMetadata(streaming.sales.party_lifecycle_management.instalments.v2.message, 8 partitions), TopicMetadata(streaming.party_notification.customer.message, 16 partitions), TopicMetadata(streaming.cti.affinity.report.message, 8 partitions), TopicMetadata(streaming.sales_underwriting.smart_data_gold.message, 8 partitions), TopicMetadata(streaming.interface_log.core.message, 40 partitions), TopicMetadata(streaming.debt_full_info.financial.message, 16 partitions), TopicMetadata(streaming.rel_account_statistic.financial.message, 16 partitions), TopicMetadata(streaming.core_background_process.core.message, 40 partitions), TopicMetadata(batch.sales.customer_offer.offline_offers.message, 8 partitions), TopicMetadata(streaming.sales.customer_offer.offer_notification.message, 8 partitions), TopicMetadata(streaming.sales.customer_offer.analytics_export.message, 8 partitions), TopicMetadata(streaming.vietnam_motorbike_info.core.message, 9 partitions), TopicMetadata(streaming.sales_underwriting.smart_data.message, 8 partitions), TopicMetadata(streaming.lap.vectorjournal.message, 8 partitions), TopicMetadata(streaming.party_notification_bulk.customer.message, 8 partitions), TopicMetadata(__consumer_offsets, 50 partitions), TopicMetadata(streaming.customer_credit_rating.message, 8 partitions), TopicMetadata(streaming.mobile_app_set_classifiable_property.core.message, 8 partitions), TopicMetadata(streaming.smart_data.predictor_engine, 8 partitions), TopicMetadata(streaming.application_notification.financial.message, 16 partitions), TopicMetadata(streaming.risk.scoringphase.events, 8 partitions), TopicMetadata(streaming.much_notification.core.message, 40 partitions), TopicMetadata(streaming.loan_service_request.financial.message, 16 partitions), TopicMetadata(streaming.risk.monitoring.events, 8 partitions), TopicMetadata(streaming.codelist_notification.core.message, 40 partitions), TopicMetadata(streaming.customer_credit_rating.smart_data.message, 8 partitions), TopicMetadata(lorTestTopic, 8 partitions), TopicMetadata(streaming.welcome_call_result.cti.message, 24 partitions), TopicMetadata(streaming.smart_data.predictor_engine.pes_predictors, 8 partitions), TopicMetadata(streaming.logs.timeto.events, 8 partitions), TopicMetadata(streaming.coreBackgroundProcessXA.message, 40 partitions), TopicMetadata(streaming.smart_data.predictor_engine.pes_raw_data, 8 partitions), TopicMetadata(streaming.lap.circuitbreaker.events, 8 partitions), TopicMetadata(streaming.cabinet.notifications.document.v1.message, 8 partitions), TopicMetadata(streaming.save_task_with_result.core.message, 40 partitions), TopicMetadata(streaming.boundary_notification.core.message, 40 partitions), TopicMetadata(streaming.scoring.request.vector.events, 8 partitions), TopicMetadata(streaming.new_registry_data.core.message, 40 partitions), TopicMetadata(streaming.repayment_account_change.financial.message, 16 partitions), TopicMetadata(streaming.directdebit_response_notification.financial.message, 8 partitions), TopicMetadata(streaming.contract_full_info_request.financial.message, 16 partitions), TopicMetadata(streaming.ticketing.ticket.v1, 8 partitions), TopicMetadata(streaming.sales.lead_management.application_event_notification.message, 8 partitions), TopicMetadata(streaming.mobile_app_record_promise_to_pay.financial.message, 8 partitions), TopicMetadata(streaming.dds_info_request.financial.message, 16 partitions), TopicMetadata(streaming.sales.customer_offer.response_events.message, 8 partitions), TopicMetadata(streaming.contract_pay_off_processing_result.message, 16 partitions), TopicMetadata(streaming.client_deal_notification.financial.message, 16 partitions), TopicMetadata(streaming.customer_background_process.customer.message, 16 partitions), TopicMetadata(streaming.sales_product_agreement.loan_application_data.message, 8 partitions), TopicMetadata(streaming.sales_product_agreement.loan_application_data_v2.message, 8 partitions), TopicMetadata(streaming.risk.scoringnotification.events, 8 partitions), TopicMetadata(streaming.sales.customer_offer.online_offers_creation_result.message, 8 partitions), TopicMetadata(streaming.customer_credit_rating.errorOutput.message, 8 partitions), TopicMetadata(batch.bigdata.calculatedpredictors.underwriting.message, 8 partitions), TopicMetadata(streaming.directdebit_request_confirmation.financial.message, 8 partitions), TopicMetadata(streaming.acknowledgement_notification.core.message, 40 partitions), TopicMetadata(streaming.processing_stats_writer.core.message, 40 partitions)])"
      ]
     },
     "execution_count": 21,
     "metadata": {},
     "output_type": "execute_result"
    }
   ],
   "source": [
    "topic_meta.topics.values()"
   ]
  },
  {
   "cell_type": "code",
   "execution_count": 4,
   "metadata": {},
   "outputs": [],
   "source": [
    "a = set(t.topic for t in iter(topic_meta.topics.values()))"
   ]
  },
  {
   "cell_type": "code",
   "execution_count": 5,
   "metadata": {},
   "outputs": [
    {
     "data": {
      "text/plain": [
       "{'__consumer_offsets',\n",
       " 'batch.bigdata.calculatedpredictors.underwriting.message',\n",
       " 'batch.sales.customer_offer.offline_offers.message',\n",
       " 'dataLakeTestTopic',\n",
       " 'demo',\n",
       " 'lorTestTopic',\n",
       " 'scoring.offline.output',\n",
       " 'scoring.online.output',\n",
       " 'streaming.account_balance_change_request.financial.message',\n",
       " 'streaming.acknowledgement_notification.core.message',\n",
       " 'streaming.application_notification.financial.message',\n",
       " 'streaming.boundary_notification.core.message',\n",
       " 'streaming.cabinet.notifications.document.v1.message',\n",
       " 'streaming.card_notification.financial.message',\n",
       " 'streaming.client_deal_notification.financial.message',\n",
       " 'streaming.codelist_notification.core.message',\n",
       " 'streaming.contract_full_info_request.financial.message',\n",
       " 'streaming.contract_pay_off_processing_result.message',\n",
       " 'streaming.coreBackgroundProcessXA.message',\n",
       " 'streaming.core_background_process.core.message',\n",
       " 'streaming.cti.affinity.report.message',\n",
       " 'streaming.cti_background_process.cti.message',\n",
       " 'streaming.customer_background_process.customer.message',\n",
       " 'streaming.customer_credit_rating.errorOutput.message',\n",
       " 'streaming.customer_credit_rating.message',\n",
       " 'streaming.customer_credit_rating.smart_data.message',\n",
       " 'streaming.daily_penalty_change.financial.message',\n",
       " 'streaming.dds_info_request.financial.message',\n",
       " 'streaming.debt_full_info.financial.message',\n",
       " 'streaming.defaultBackgroundProcess.message',\n",
       " 'streaming.delayed_call_ended_process.cti.message',\n",
       " 'streaming.delivery_notification.core.message',\n",
       " 'streaming.directdebit_request_confirmation.financial.message',\n",
       " 'streaming.directdebit_response_notification.financial.message',\n",
       " 'streaming.financial_background_process.financial.message',\n",
       " 'streaming.interface_log.core.message',\n",
       " 'streaming.jms_error_log.core.message',\n",
       " 'streaming.lap.circuitbreaker.events',\n",
       " 'streaming.lap.vectorjournal.message',\n",
       " 'streaming.loan_service_request.financial.message',\n",
       " 'streaming.logs.timeto.events',\n",
       " 'streaming.manual_incoming_payment_pairing_info_request.financial.message',\n",
       " 'streaming.mobile_app_record_promise_to_pay.financial.message',\n",
       " 'streaming.mobile_app_set_classifiable_property.core.message',\n",
       " 'streaming.mobile_app_set_preferred_call_time.customer.message',\n",
       " 'streaming.much_notification.core.message',\n",
       " 'streaming.new_registry_data.core.message',\n",
       " 'streaming.online_data_test_request.core.message',\n",
       " 'streaming.outsourced_call_result_import.core.message',\n",
       " 'streaming.party_notification.customer.message',\n",
       " 'streaming.party_notification_bulk.customer.message',\n",
       " 'streaming.processing_stats_writer.core.message',\n",
       " 'streaming.rel_account_statistic.financial.message',\n",
       " 'streaming.repayment_account_change.financial.message',\n",
       " 'streaming.risk.data_score_test',\n",
       " 'streaming.risk.monitoring.events',\n",
       " 'streaming.risk.scoringnotification.events',\n",
       " 'streaming.risk.scoringphase.events',\n",
       " 'streaming.sales.customer_offer.analytics_export.message',\n",
       " 'streaming.sales.customer_offer.offer_notification.message',\n",
       " 'streaming.sales.customer_offer.offline_offers_import_status.message',\n",
       " 'streaming.sales.customer_offer.online_offers_creation_result.message',\n",
       " 'streaming.sales.customer_offer.response_events.message',\n",
       " 'streaming.sales.lead_management.application_event_notification.message',\n",
       " 'streaming.sales.party_lifecycle_management.instalments.v2.message',\n",
       " 'streaming.sales_product_agreement.loan_application_data.message',\n",
       " 'streaming.sales_product_agreement.loan_application_data_v2.message',\n",
       " 'streaming.sales_underwriting.smart_data.message',\n",
       " 'streaming.sales_underwriting.smart_data_gold.message',\n",
       " 'streaming.save_task_with_result.core.message',\n",
       " 'streaming.scoring.request.vector.events',\n",
       " 'streaming.smart_data.predictor_engine',\n",
       " 'streaming.smart_data.predictor_engine.pes_predictors',\n",
       " 'streaming.smart_data.predictor_engine.pes_predictors_data',\n",
       " 'streaming.smart_data.predictor_engine.pes_raw_data',\n",
       " 'streaming.smart_data.predictor_engine_gold.pes_predictors',\n",
       " 'streaming.ticketing.ticket.v1',\n",
       " 'streaming.vector.monitoring.events',\n",
       " 'streaming.vietnam_motorbike_info.core.message',\n",
       " 'streaming.welcome_call_result.cti.message'}"
      ]
     },
     "execution_count": 5,
     "metadata": {},
     "output_type": "execute_result"
    }
   ],
   "source": [
    "a"
   ]
  },
  {
   "cell_type": "code",
   "execution_count": null,
   "metadata": {},
   "outputs": [],
   "source": []
  }
 ],
 "metadata": {
  "kernelspec": {
   "display_name": "Python 3",
   "language": "python",
   "name": "python3"
  },
  "language_info": {
   "codemirror_mode": {
    "name": "ipython",
    "version": 3
   },
   "file_extension": ".py",
   "mimetype": "text/x-python",
   "name": "python",
   "nbconvert_exporter": "python",
   "pygments_lexer": "ipython3",
   "version": "3.7.7"
  }
 },
 "nbformat": 4,
 "nbformat_minor": 4
}
